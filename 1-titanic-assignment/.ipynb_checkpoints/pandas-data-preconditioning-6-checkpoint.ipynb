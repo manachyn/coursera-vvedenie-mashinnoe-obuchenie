{
 "cells": [
  {
   "cell_type": "code",
   "execution_count": 1,
   "metadata": {
    "collapsed": false
   },
   "outputs": [
    {
     "name": "stdout",
     "output_type": "stream",
     "text": [
      "Most popular female name: Anna\n"
     ]
    }
   ],
   "source": [
    "from __future__ import print_function\n",
    "\n",
    "import pandas, re\n",
    "\n",
    "def extract_first_name(name):\n",
    "    match = re.match('([^,]+), ([^.]+)\\. ([^()]+)?(\\(([^\")]+)\\))? ?(\\(\"([^)]+)\"\\))?', name)\n",
    "\n",
    "    full_name = None\n",
    "\n",
    "    if match:\n",
    "        if match.group(5):\n",
    "            full_name = match.group(5)\n",
    "        else:\n",
    "            full_name = match.group(3)\n",
    "\n",
    "    first_name = full_name.split()[0]\n",
    "\n",
    "    return first_name\n",
    "\n",
    "\n",
    "data = pandas.read_csv('titanic.csv', index_col='PassengerId')\n",
    "\n",
    "names = data[data['Sex'] == 'female']['Name'].map(extract_first_name)\n",
    "names_counts = names.value_counts()\n",
    "most_popular_name = names_counts.head(1).keys()[0]\n",
    "\n",
    "print('Most popular female name:', most_popular_name)\n",
    "\n",
    "file = open('result-6.txt', 'w')\n",
    "print(most_popular_name, file=file, sep='', end='')\n",
    "file.close()\n",
    "\n"
   ]
  },
  {
   "cell_type": "code",
   "execution_count": null,
   "metadata": {
    "collapsed": true
   },
   "outputs": [],
   "source": []
  }
 ],
 "metadata": {
  "kernelspec": {
   "display_name": "Python 2",
   "language": "python",
   "name": "python2"
  },
  "language_info": {
   "codemirror_mode": {
    "name": "ipython",
    "version": 2
   },
   "file_extension": ".py",
   "mimetype": "text/x-python",
   "name": "python",
   "nbconvert_exporter": "python",
   "pygments_lexer": "ipython2",
   "version": "2.7.12"
  }
 },
 "nbformat": 4,
 "nbformat_minor": 2
}
